{
 "cells": [
  {
   "cell_type": "code",
   "execution_count": 3,
   "id": "b1793987-0f2e-4837-85f8-6e34cdf82d13",
   "metadata": {},
   "outputs": [],
   "source": [
    "import pandas as pd\n",
    "import numpy as np\n",
    "from sklearn.model_selection import train_test_split\n",
    "from sklearn.preprocessing import StandardScaler\n",
    "from sklearn.metrics import classification_report, confusion_matrix, accuracy_score\n",
    "import matplotlib.pyplot as plt\n",
    "import seaborn as sns\n",
    "from hpsvm import HPSVM\n",
    "from mpi4py import MPI"
   ]
  },
  {
   "cell_type": "code",
   "execution_count": 9,
   "id": "2a4de2dc-ef35-4d6e-bb96-002780f75861",
   "metadata": {},
   "outputs": [],
   "source": [
    "df = pd.read_csv('../data/preprocessing_mushroom.csv')"
   ]
  },
  {
   "cell_type": "code",
   "execution_count": 11,
   "id": "ca97e634-8bb7-4538-ad66-235af215f125",
   "metadata": {},
   "outputs": [],
   "source": [
    "df_encoded = df"
   ]
  },
  {
   "cell_type": "code",
   "execution_count": 55,
   "id": "5c73fa81-7601-4c21-bc2b-c5436edb9885",
   "metadata": {},
   "outputs": [],
   "source": [
    "comm = MPI.COMM_WORLD\n",
    "rank = comm.Get_rank()\n",
    "size = comm.Get_size()"
   ]
  },
  {
   "cell_type": "code",
   "execution_count": 56,
   "id": "fbcb3ac9-d776-4531-a3cd-afb04a19b371",
   "metadata": {},
   "outputs": [
    {
     "name": "stdout",
     "output_type": "stream",
     "text": [
      "Generated dataset with 6499 training samples and 1625 test samples\n",
      "Sample of scaled training data:\n",
      "[[-0.8427199   0.95985383  1.76225743 -0.84410691 -1.01316068  0.15988792\n",
      "  -0.43722499 -0.66216943 -0.79870133 -1.14183755 -0.9719434  -0.93385772\n",
      "  -0.88530978  0.10240489 -3.00957552  0.          0.14091952 -0.26005365\n",
      "  -0.16455926 -1.08468287  1.08101476 -0.29096328]\n",
      " [ 1.02608241  0.14802535  0.19169813  1.18468406  0.41525741  0.15988792\n",
      "  -0.43722499 -0.66216943 -1.08119167 -1.14183755  1.19897886  0.68544359\n",
      "   0.59225269 -1.98881066  0.63177073  0.          0.14091952  3.41405222\n",
      "  -1.27685318  1.43729696 -2.11712564  2.61464572]\n",
      " [-2.08858811  0.14802535 -0.59358151 -0.84410691  0.41525741  0.15988792\n",
      "   2.28715199 -0.66216943  1.46122137 -1.14183755  1.19897886 -0.93385772\n",
      "   0.59225269  0.62520877  0.63177073  0.          0.14091952  3.41405222\n",
      "   0.94773467  1.43729696 -0.51805544 -0.29096328]\n",
      " [-0.8427199   0.14802535 -0.20094169 -0.84410691  1.36753614  0.15988792\n",
      "  -0.43722499  1.51018751 -1.36368201  0.87578133  1.19897886 -0.93385772\n",
      "  -0.88530978  0.10240489  0.63177073  0.          0.14091952 -0.26005365\n",
      "  -1.27685318  1.43729696  0.28147966 -0.87208508]\n",
      " [-0.2197858   0.95985383 -0.20094169 -0.84410691 -1.01316068  0.15988792\n",
      "  -0.43722499  1.51018751 -1.36368201  0.87578133  1.19897886  0.68544359\n",
      "  -0.88530978  0.10240489  0.11157841  0.          0.14091952 -0.26005365\n",
      "  -1.27685318  1.43729696  0.28147966  1.45240212]]\n"
     ]
    }
   ],
   "source": [
    "X = df.drop('poisonous', axis=1)  \n",
    "y = df['poisonous']  \n",
    "\n",
    "X_train, X_test, y_train, y_test = train_test_split(X, y, test_size=0.2, random_state=42, stratify=y)\n",
    "\n",
    "scaler = StandardScaler()\n",
    "\n",
    "X_train_scaled = scaler.fit_transform(X_train)\n",
    "\n",
    "X_test_scaled = scaler.transform(X_test)\n",
    "\n",
    "print(f\"Generated dataset with {X_train.shape[0]} training samples and {X_test.shape[0]} test samples\")\n",
    "\n",
    "print(\"Sample of scaled training data:\")\n",
    "print(X_train_scaled[:5])"
   ]
  },
  {
   "cell_type": "code",
   "execution_count": 57,
   "id": "ec8fdfb4-564c-42fc-bc1e-361c174e089f",
   "metadata": {},
   "outputs": [],
   "source": [
    "X_train_scaled = comm.bcast(X_train_scaled, root=0)\n",
    "X_test_scaled = comm.bcast(X_test_scaled, root=0)\n",
    "y_train = comm.bcast(y_train, root=0)\n",
    "y_test = comm.bcast(y_test, root=0)"
   ]
  },
  {
   "cell_type": "code",
   "execution_count": 58,
   "id": "6865a319-7d83-40b8-b463-d3058ff06aee",
   "metadata": {},
   "outputs": [
    {
     "name": "stderr",
     "output_type": "stream",
     "text": [
      "2025-03-12 19:29:46,642 - HPSVM - INFO - Initialized HPSVM with 1 nodes\n",
      "2025-03-12 19:29:46,642 - HPSVM - INFO - Parameters: tau=1.0, tol=0.0001, max_iter=50, kernel=linear\n"
     ]
    }
   ],
   "source": [
    "#This is the reference in the hpsvm.py file\n",
    "hpsvm = HPSVM(tau=1.0, tol=1e-4, max_iter=50)"
   ]
  },
  {
   "cell_type": "code",
   "execution_count": 59,
   "id": "ce1cc524-86ba-4698-8a69-023b3a6e5210",
   "metadata": {},
   "outputs": [
    {
     "name": "stderr",
     "output_type": "stream",
     "text": [
      "2025-03-12 19:29:46,652 - HPSVM - INFO - Starting HPSVM training with 6499 samples and 22 features\n",
      "2025-03-12 19:29:46,686 - HPSVM - INFO - Data distributed among 1 nodes\n",
      "2025-03-12 19:29:46,785 - HPSVM - INFO - Iteration 0: duality gap = 0.596438, step size = 0.234427\n",
      "2025-03-12 19:29:46,837 - HPSVM - INFO - Iteration 5: duality gap = 0.496654, step size = 0.000002\n",
      "2025-03-12 19:29:46,876 - HPSVM - INFO - Iteration 10: duality gap = 0.524695, step size = 0.000002\n",
      "2025-03-12 19:29:46,909 - HPSVM - INFO - Iteration 15: duality gap = 0.524743, step size = 0.000000\n",
      "2025-03-12 19:29:46,959 - HPSVM - INFO - Iteration 20: duality gap = 0.524743, step size = 0.000000\n",
      "2025-03-12 19:29:47,002 - HPSVM - INFO - Iteration 25: duality gap = 0.524743, step size = 0.000000\n",
      "2025-03-12 19:29:47,042 - HPSVM - INFO - Iteration 30: duality gap = 0.524743, step size = 0.000000\n",
      "2025-03-12 19:29:47,093 - HPSVM - INFO - Iteration 35: duality gap = 0.524743, step size = 0.000000\n",
      "2025-03-12 19:29:47,126 - HPSVM - INFO - Iteration 40: duality gap = 0.524743, step size = 0.000000\n",
      "2025-03-12 19:29:47,176 - HPSVM - INFO - Iteration 45: duality gap = 0.524743, step size = 0.000000\n",
      "2025-03-12 19:29:47,201 - HPSVM - INFO - Iteration 49: duality gap = 0.524743, step size = 0.000000\n",
      "2025-03-12 19:29:47,201 - HPSVM - INFO - Number of support vectors: 6375 out of 6499 samples\n"
     ]
    },
    {
     "data": {
      "text/plain": [
       "<hpsvm.HPSVM at 0x1ddda4c5880>"
      ]
     },
     "execution_count": 59,
     "metadata": {},
     "output_type": "execute_result"
    }
   ],
   "source": [
    "hpsvm.fit(X_train_scaled, y_train)"
   ]
  },
  {
   "cell_type": "code",
   "execution_count": 60,
   "id": "a5532225-9ac3-4bd8-a8d4-0fbd871179de",
   "metadata": {},
   "outputs": [],
   "source": [
    "y_pred = hpsvm.predict(X_test_scaled)"
   ]
  },
  {
   "cell_type": "code",
   "execution_count": 61,
   "id": "48a64c77-63ae-45b7-8bcf-0c9188352d0e",
   "metadata": {},
   "outputs": [],
   "source": [
    "y_pred = np.where(y_pred == -1, 0, y_pred)"
   ]
  },
  {
   "cell_type": "code",
   "execution_count": 72,
   "id": "2224863f-676f-4b2a-9a90-382cfd34eae9",
   "metadata": {},
   "outputs": [
    {
     "name": "stdout",
     "output_type": "stream",
     "text": [
      "Test accuracy: 0.9532\n",
      "Classification Report:\n",
      "              precision    recall  f1-score   support\n",
      "\n",
      "           0       0.95      0.96      0.96       842\n",
      "           1       0.95      0.95      0.95       783\n",
      "\n",
      "    accuracy                           0.95      1625\n",
      "   macro avg       0.95      0.95      0.95      1625\n",
      "weighted avg       0.95      0.95      0.95      1625\n",
      "\n"
     ]
    }
   ],
   "source": [
    "accuracy = accuracy_score(y_test, y_pred)\n",
    "print(f\"Test accuracy: {accuracy:.4f}\")\n",
    "print('Classification Report:')\n",
    "print(classification_report(y_test, y_pred))"
   ]
  },
  {
   "cell_type": "markdown",
   "id": "45625d09-0af4-449f-a54b-ad19d7e5212f",
   "metadata": {},
   "source": [
    "### This model was partially correct since it's also considered -1 (not posion) which could be harder to apply ML to and we where getting around 50 accuracy, for this we need to change to binary for easier readability. Easier readability -> better accuracy for the model which it shows since accuracy when changing y_pred -1 = 0 went up to 95"
   ]
  }
 ],
 "metadata": {
  "kernelspec": {
   "display_name": "Python 3 (ipykernel)",
   "language": "python",
   "name": "python3"
  },
  "language_info": {
   "codemirror_mode": {
    "name": "ipython",
    "version": 3
   },
   "file_extension": ".py",
   "mimetype": "text/x-python",
   "name": "python",
   "nbconvert_exporter": "python",
   "pygments_lexer": "ipython3",
   "version": "3.12.4"
  }
 },
 "nbformat": 4,
 "nbformat_minor": 5
}
